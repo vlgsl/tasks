{
  "nbformat": 4,
  "nbformat_minor": 0,
  "metadata": {
    "colab": {
      "name": "kt.ipynb",
      "provenance": []
    },
    "kernelspec": {
      "name": "python3",
      "display_name": "Python 3"
    }
  },
  "cells": [
    {
      "cell_type": "code",
      "metadata": {
        "id": "LeBKRO-Xi7RW"
      },
      "source": [
        "with open('') as f:\n",
        "  file_ = f.read()\n",
        "import re\n",
        "def surname(file_):\n",
        "  file_ = ''.join(file_.split())\n",
        "  file_ = re.sub(r'\\wациент.', '', file_)\n",
        "  file_ = re.sub(r'[\\.:]', '', file_)\n",
        "  patt = re.compile(r'(?<=ФИО)[А-Я][а-я]*')\n",
        "  patt1 = patt.findall(file_)\n",
        "  return patt1\n",
        "surname(file_)"
      ],
      "execution_count": null,
      "outputs": []
    },
    {
      "cell_type": "code",
      "metadata": {
        "id": "vGJte4RyozWy"
      },
      "source": [
        "def date(file_):\n",
        "  file_ = ''.join(file_.split())\n",
        "  patt = re.compile(r'(?<=Датаисследования:).{10}')\n",
        "  patt1 = patt.findall(file_)\n",
        "  return patt1\n",
        "list.append(date(file_))\n",
        "list"
      ],
      "execution_count": null,
      "outputs": []
    },
    {
      "cell_type": "code",
      "metadata": {
        "id": "vmkZXSnRHD9j"
      },
      "source": [
        "def descr(file_):\n",
        "  patt1 = re.findall(r'(?:\\Dписание исследования.|\\Dписание.)(.*?)(?=\\Dаключение)', file_, flags=re.DOTALL)\n",
        "  return patt1\n",
        "descr(file_)"
      ],
      "execution_count": null,
      "outputs": []
    },
    {
      "cell_type": "code",
      "metadata": {
        "id": "9_0gabCHiZR3"
      },
      "source": [
        "def concl(file_):\n",
        "  patt1 = re.findall(r'(?<=\\Dаключение.).*?(?=\\ротокол)', file_, flags=re.DOTALL)\n",
        "  return patt1\n",
        "concl(file_)"
      ],
      "execution_count": null,
      "outputs": []
    },
    {
      "cell_type": "code",
      "metadata": {
        "id": "GMKJGbQLdIc_"
      },
      "source": [
        "list = []\n",
        "list.append(surname(file_))\n",
        "list.append(date(file_))\n",
        "list.append(descr(file_))\n",
        "list.append(concl(file_))\n",
        "list"
      ],
      "execution_count": null,
      "outputs": []
    },
    {
      "cell_type": "code",
      "metadata": {
        "id": "Eh-tgXGwyvaN"
      },
      "source": [
        "a, b, c, d = surname(file_), date(file_), descr(file_), concl(file_)\n",
        "def f():\n",
        "  list = (f'{a}\\n{b}\\n{c}\\n{d}')\n",
        "  return list\n",
        "print(f())"
      ],
      "execution_count": null,
      "outputs": []
    }
  ]
}