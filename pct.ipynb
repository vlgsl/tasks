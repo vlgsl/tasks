{
  "nbformat": 4,
  "nbformat_minor": 0,
  "metadata": {
    "colab": {
      "name": "pct.ipynb",
      "provenance": [],
      "collapsed_sections": []
    },
    "kernelspec": {
      "name": "python3",
      "display_name": "Python 3"
    },
    "language_info": {
      "name": "python"
    }
  },
  "cells": [
    {
      "cell_type": "code",
      "metadata": {
        "id": "UTPa1sBCaUtQ"
      },
      "source": [
        "import re\n",
        "with open('') as f:\n",
        "  file_ = f.read()"
      ],
      "execution_count": 193,
      "outputs": []
    },
    {
      "cell_type": "code",
      "metadata": {
        "id": "M-QahuGZa1JV"
      },
      "source": [
        "from datetime import datetime\n",
        "\n",
        "def change_date_format(file_):\n",
        "    # file_ = ''.join(file_.split())\n",
        "    data_1 = re.sub(r'(0?[1-9]|[12]\\d|30|31)[.](0?[1-9]|1[0-2])[.](\\d{4})', '\\\\1-\\\\2-\\\\3', file_)\n",
        "    data2 = re.sub(r'(0?[1-9]|[12]\\d|30|31)[.](0?[1-9]|1[0-2])[.](\\d{2})', '\\\\1-\\\\2-20\\\\3', data_1)\n",
        "    a = re.findall(r'\\d{2}-\\d{2}-20\\d{2}', data2)\n",
        "    for m in a:\n",
        "      x = m[0:2]\n",
        "      y = m[3:5]\n",
        "      z = m[6:9+1]\n",
        "      numbers = (x, y, z)\n",
        "      dt = ''.join([str(item) for sub in numbers for item in sub])\n",
        "      dt1 = datetime.strptime(dt, \"%d%m%Y\")\n",
        "    return data2\n",
        "change_date_format(file_)"
      ],
      "execution_count": null,
      "outputs": []
    },
    {
      "cell_type": "code",
      "metadata": {
        "id": "hoyIjg8-fCOb"
      },
      "source": [
        "# найти все даты и перевести в дататайм\n",
        "# находим прокальцитонин. составим словарь: дата и результат. "
      ],
      "execution_count": 121,
      "outputs": []
    },
    {
      "cell_type": "code",
      "metadata": {
        "id": "16F_1GmrOaZ-"
      },
      "source": [
        "# варианты нахождения прокальцитонина. \n",
        "# 1. не убираем пробелы. находим прокальцитонин с начала строки и до ее конца. находим там дату и значение."
      ],
      "execution_count": 122,
      "outputs": []
    },
    {
      "cell_type": "code",
      "metadata": {
        "colab": {
          "base_uri": "https://localhost:8080/"
        },
        "id": "Ei76-zPwQBe1",
        "outputId": "da9b4571-90b7-4d3a-b3ae-2eb4215232f0"
      },
      "source": [
        "def pct(file_):\n",
        "  file_ = change_date_format(file_)\n",
        "  data_1 = re.findall(r'^.+рокальцит.+$', file_, flags=re.MULTILINE)\n",
        "  data_1 = (''.join(data_1)).lower()\n",
        "  data_1 = re.sub(r',', '.', data_1)\n",
        "  a = re.findall(r'(?<=.рокальцитонин).*?(\\d{2}-\\d{2}-\\d{4})|(\\d{2}-\\d{2}-\\d{4})(|.|:)(?:.рокальцитонин)', data_1)\n",
        "  b = re.findall(r'(?<=.рокальцитонин).*?(\\d\\.\\d{2})', data_1)\n",
        "  d1 = dict(zip(a,b))\n",
        "  return d1\n",
        "pct(file_)"
      ],
      "execution_count": 211,
      "outputs": [
        {
          "output_type": "execute_result",
          "data": {
            "text/plain": [
              "{('', '06-07-2020', ' '): '0.32'}"
            ]
          },
          "metadata": {
            "tags": []
          },
          "execution_count": 211
        }
      ]
    },
    {
      "cell_type": "code",
      "metadata": {
        "id": "_Y0OgRF-bNzO"
      },
      "source": [
        "(?<=прокальцитонин).*?(\\d{2}-\\d{2}-\\d{4}) # находит дату после прокальцитонина\n",
        "(\\d{2}.\\d{2}.\\d{4}).*?(?=прокальцитонин) # находит дату перед прокальцитонином"
      ],
      "execution_count": null,
      "outputs": []
    }
  ]
}