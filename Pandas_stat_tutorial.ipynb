{
  "nbformat": 4,
  "nbformat_minor": 0,
  "metadata": {
    "kernelspec": {
      "display_name": "Python 3",
      "language": "python",
      "name": "python3"
    },
    "language_info": {
      "codemirror_mode": {
        "name": "ipython",
        "version": 3
      },
      "file_extension": ".py",
      "mimetype": "text/x-python",
      "name": "python",
      "nbconvert_exporter": "python",
      "pygments_lexer": "ipython3",
      "version": "3.8.5"
    },
    "colab": {
      "name": "Pandas_stat_tutorial.ipynb",
      "provenance": []
    }
  },
  "cells": [
    {
      "cell_type": "code",
      "metadata": {
        "id": "1xSQOScnrBZw"
      },
      "source": [
        "import pandas as pd\n",
        "import numpy as np\n",
        "import scipy\n",
        "from scipy import stats\n",
        "from scipy.stats import mannwhitneyu,ttest_ind, kruskal,chisquare, pearsonr, spearmanr"
      ],
      "execution_count": 2,
      "outputs": []
    },
    {
      "cell_type": "code",
      "metadata": {
        "colab": {
          "base_uri": "https://localhost:8080/"
        },
        "id": "awQ6mMwirBaB",
        "outputId": "d6d15d7d-9118-48c9-a16c-ed19438ce156"
      },
      "source": [
        "def Basic_statistics_pipeline(mean1, mean2, sd1, sd2):\n",
        "    \"\"\"набор классических статистических тестов в библиотеке сайпай\n",
        "        \n",
        "        \n",
        "        В медицине, обычно, мы анализируем тип распределения: нормальное или не нормальное, а\n",
        "        а затем выбираем тесты, которые могут использоваться в данном случае. \n",
        "        \n",
        "        Здесь, я просто сгенерировал нормальное распределение и провёл тесты. Позже мы научимся\n",
        "        как доставать из данных значения и проводить тесты на них\n",
        "    \"\"\"\n",
        "  \n",
        "    lst_1 = np.random.normal(mean1, sd1, 1000) # генерация нормального распределения\n",
        "    lst_2 = np.random.normal(mean2, sd2, 1000) # генерация нормального распределения\n",
        "    res_tt = stats.ttest_ind(lst_1, lst_2) # т-тест стьюдента\n",
        "    res_mw = mannwhitneyu(lst_1, lst_2, \n",
        "                       use_continuity=True, \n",
        "                       alternative=None) # u -тест манна-уитни\n",
        "    res_kw = kruskal(lst_1, lst_2)## тест краскела-уолиса\n",
        "    res_chi = chisquare(lst_1, lst_2) ## хи-квадрат\n",
        "    res_pearson = pearsonr(lst_1, lst_2)# корреляция пирсона\n",
        "    res_spear = spearmanr(lst_1, lst_2)# корреляция спирмана\n",
        "    res1_ks = stats.kstest(lst_1,'norm',alternative='greater')#тест колмагорова-смирнова ( показывает \n",
        "                                                            #нормальность или не нормальность распределения)\n",
        "    res2_ks = stats.kstest(lst_2,'norm',alternative='greater')#тест колмагорова-смирнова\n",
        "    shapiro_test = stats.shapiro(lst_2)#тест шапиро-уилка( показывает \n",
        "                                                     #нормальность или не нормальность распределения)\n",
        "    anova = stats.f_oneway(lst_1, lst_2)\n",
        "    oddsratio, pvalue = stats.fisher_exact([[11200, 100], [80, 5]]) # точный тест фишера\n",
        "    return anova, oddsratio, pvalue, res_tt, res_mw, res_kw, res_chi, res_pearson, res_spear, res1_ks, res2_ks, shapiro_test\n",
        "    \n",
        "    \n",
        "    \n",
        "Basic_statistics_pipeline(150, 46, 5, 3)"
      ],
      "execution_count": 3,
      "outputs": [
        {
          "output_type": "execute_result",
          "data": {
            "text/plain": [
              "(F_onewayResult(statistic=322808.0737457341, pvalue=0.0),\n",
              " 7.0,\n",
              " 0.0011084393833355923,\n",
              " Ttest_indResult(statistic=568.1620136420048, pvalue=0.0),\n",
              " MannwhitneyuResult(statistic=0.0, pvalue=0.0),\n",
              " KruskalResult(statistic=1499.2503748125928, pvalue=0.0),\n",
              " Power_divergenceResult(statistic=236146.20775630767, pvalue=0.0),\n",
              " (0.011712305857020931, 0.7114383111613847),\n",
              " SpearmanrResult(correlation=0.00875019275019275, pvalue=0.7822680431472298),\n",
              " KstestResult(statistic=0.0, pvalue=1.0),\n",
              " KstestResult(statistic=0.0, pvalue=1.0),\n",
              " (0.9988337755203247, 0.7765741348266602))"
            ]
          },
          "metadata": {
            "tags": []
          },
          "execution_count": 3
        }
      ]
    },
    {
      "cell_type": "code",
      "metadata": {
        "id": "2Hg3OzW6rBaK"
      },
      "source": [
        "# импорт файла в пандас\n",
        "# можно читать много разных форматов. csv = данные, разделённые запятыми наиболее часто используется\n",
        "data = pd.read_csv('data_stroke.csv')"
      ],
      "execution_count": 4,
      "outputs": []
    },
    {
      "cell_type": "code",
      "metadata": {
        "colab": {
          "base_uri": "https://localhost:8080/",
          "height": 206
        },
        "id": "poq5PzTyrBaO",
        "outputId": "57428018-9942-47ee-a313-10f91f68a563"
      },
      "source": [
        "# посмотреть первые 5 или 7 или 10 строк\n",
        "data.head(5)"
      ],
      "execution_count": 5,
      "outputs": [
        {
          "output_type": "execute_result",
          "data": {
            "text/html": [
              "<div>\n",
              "<style scoped>\n",
              "    .dataframe tbody tr th:only-of-type {\n",
              "        vertical-align: middle;\n",
              "    }\n",
              "\n",
              "    .dataframe tbody tr th {\n",
              "        vertical-align: top;\n",
              "    }\n",
              "\n",
              "    .dataframe thead th {\n",
              "        text-align: right;\n",
              "    }\n",
              "</style>\n",
              "<table border=\"1\" class=\"dataframe\">\n",
              "  <thead>\n",
              "    <tr style=\"text-align: right;\">\n",
              "      <th></th>\n",
              "      <th>Gender</th>\n",
              "      <th>Age</th>\n",
              "      <th>AF</th>\n",
              "      <th>Localisation</th>\n",
              "      <th>AMI_Unst.ang</th>\n",
              "      <th>GFR</th>\n",
              "      <th>Surv</th>\n",
              "      <th>Q_non_Q</th>\n",
              "      <th>DM</th>\n",
              "    </tr>\n",
              "  </thead>\n",
              "  <tbody>\n",
              "    <tr>\n",
              "      <th>0</th>\n",
              "      <td>male</td>\n",
              "      <td>56</td>\n",
              "      <td>No_AF</td>\n",
              "      <td>Left_car</td>\n",
              "      <td>AMI</td>\n",
              "      <td>14</td>\n",
              "      <td>death</td>\n",
              "      <td>non_Q</td>\n",
              "      <td>Diabetes</td>\n",
              "    </tr>\n",
              "    <tr>\n",
              "      <th>1</th>\n",
              "      <td>male</td>\n",
              "      <td>59</td>\n",
              "      <td>No_AF</td>\n",
              "      <td>Left_car</td>\n",
              "      <td>Unst_ang</td>\n",
              "      <td>98</td>\n",
              "      <td>alive</td>\n",
              "      <td>NaN</td>\n",
              "      <td>No_Diabetes</td>\n",
              "    </tr>\n",
              "    <tr>\n",
              "      <th>2</th>\n",
              "      <td>female</td>\n",
              "      <td>86</td>\n",
              "      <td>AF</td>\n",
              "      <td>Left_car</td>\n",
              "      <td>AMI</td>\n",
              "      <td>57</td>\n",
              "      <td>death</td>\n",
              "      <td>non_Q</td>\n",
              "      <td>Diabetes</td>\n",
              "    </tr>\n",
              "    <tr>\n",
              "      <th>3</th>\n",
              "      <td>female</td>\n",
              "      <td>83</td>\n",
              "      <td>AF</td>\n",
              "      <td>Left_car</td>\n",
              "      <td>Unst_ang</td>\n",
              "      <td>69</td>\n",
              "      <td>alive</td>\n",
              "      <td>NaN</td>\n",
              "      <td>No_Diabetes</td>\n",
              "    </tr>\n",
              "    <tr>\n",
              "      <th>4</th>\n",
              "      <td>female</td>\n",
              "      <td>78</td>\n",
              "      <td>AF</td>\n",
              "      <td>Left_car</td>\n",
              "      <td>AMI</td>\n",
              "      <td>54</td>\n",
              "      <td>death</td>\n",
              "      <td>non_Q</td>\n",
              "      <td>No_Diabetes</td>\n",
              "    </tr>\n",
              "  </tbody>\n",
              "</table>\n",
              "</div>"
            ],
            "text/plain": [
              "   Gender  Age     AF Localisation  ... GFR   Surv Q_non_Q           DM\n",
              "0    male   56  No_AF     Left_car  ...  14  death   non_Q     Diabetes\n",
              "1    male   59  No_AF     Left_car  ...  98  alive     NaN  No_Diabetes\n",
              "2  female   86     AF     Left_car  ...  57  death   non_Q     Diabetes\n",
              "3  female   83     AF     Left_car  ...  69  alive     NaN  No_Diabetes\n",
              "4  female   78     AF     Left_car  ...  54  death   non_Q  No_Diabetes\n",
              "\n",
              "[5 rows x 9 columns]"
            ]
          },
          "metadata": {
            "tags": []
          },
          "execution_count": 5
        }
      ]
    },
    {
      "cell_type": "code",
      "metadata": {
        "colab": {
          "base_uri": "https://localhost:8080/"
        },
        "id": "o7uaTNdmrBaR",
        "outputId": "ac0d13a8-905a-4779-9837-dfa576fb3d16"
      },
      "source": [
        "#выбор столбца - просто пишем дата и в квадратных скобках указываем название столбца\n",
        "data['Age'] # data.Age => также"
      ],
      "execution_count": 6,
      "outputs": [
        {
          "output_type": "execute_result",
          "data": {
            "text/plain": [
              "0      56\n",
              "1      59\n",
              "2      86\n",
              "3      83\n",
              "4      78\n",
              "       ..\n",
              "108    78\n",
              "109    73\n",
              "110    68\n",
              "111    81\n",
              "112    84\n",
              "Name: Age, Length: 113, dtype: int64"
            ]
          },
          "metadata": {
            "tags": []
          },
          "execution_count": 6
        }
      ]
    },
    {
      "cell_type": "code",
      "metadata": {
        "colab": {
          "base_uri": "https://localhost:8080/"
        },
        "id": "Uif6AVjXrBaU",
        "outputId": "48e997bc-2ca5-41d8-ce4e-421f98f69cd6"
      },
      "source": [
        "# например, я хочу узнать сколько в моих данных мужчин и женщин, для этого можно использовать метод\n",
        "data['Gender'].value_counts()"
      ],
      "execution_count": 7,
      "outputs": [
        {
          "output_type": "execute_result",
          "data": {
            "text/plain": [
              "female    83\n",
              "male      30\n",
              "Name: Gender, dtype: int64"
            ]
          },
          "metadata": {
            "tags": []
          },
          "execution_count": 7
        }
      ]
    },
    {
      "cell_type": "code",
      "metadata": {
        "colab": {
          "base_uri": "https://localhost:8080/"
        },
        "id": "CtZbMgVvrBaX",
        "outputId": "87ec404f-388a-41ec-b348-a5734961bbee"
      },
      "source": [
        "# например, уникальные значения столбца\n",
        "data['Localisation'].unique()"
      ],
      "execution_count": 8,
      "outputs": [
        {
          "output_type": "execute_result",
          "data": {
            "text/plain": [
              "array(['Left_car', 'Right_car', 'Vertebro_bas'], dtype=object)"
            ]
          },
          "metadata": {
            "tags": []
          },
          "execution_count": 8
        }
      ]
    },
    {
      "cell_type": "code",
      "metadata": {
        "colab": {
          "base_uri": "https://localhost:8080/"
        },
        "id": "LHEYhiZhrBaZ",
        "outputId": "6bae0bd5-eb57-4559-f2c1-58c9e96f23d6"
      },
      "source": [
        "# узнать названия всех столбцов\n",
        "data.columns"
      ],
      "execution_count": 9,
      "outputs": [
        {
          "output_type": "execute_result",
          "data": {
            "text/plain": [
              "Index(['Gender', 'Age', 'AF', 'Localisation', 'AMI_Unst.ang', 'GFR', 'Surv',\n",
              "       'Q_non_Q', 'DM'],\n",
              "      dtype='object')"
            ]
          },
          "metadata": {
            "tags": []
          },
          "execution_count": 9
        }
      ]
    },
    {
      "cell_type": "code",
      "metadata": {
        "colab": {
          "base_uri": "https://localhost:8080/",
          "height": 206
        },
        "id": "IEccEDY3rBac",
        "outputId": "b0bdf5b6-d806-44d7-c054-082666058f39"
      },
      "source": [
        "# выборка данных 1) используя метод loc ( локализация)\n",
        "data.loc[1:5, 'AF': 'DM'] # первые значения 1 и 5 - это строки, которыя я хотел, а АФ и ДМ это столбцы, которые меня\n",
        "# интересуют"
      ],
      "execution_count": 10,
      "outputs": [
        {
          "output_type": "execute_result",
          "data": {
            "text/html": [
              "<div>\n",
              "<style scoped>\n",
              "    .dataframe tbody tr th:only-of-type {\n",
              "        vertical-align: middle;\n",
              "    }\n",
              "\n",
              "    .dataframe tbody tr th {\n",
              "        vertical-align: top;\n",
              "    }\n",
              "\n",
              "    .dataframe thead th {\n",
              "        text-align: right;\n",
              "    }\n",
              "</style>\n",
              "<table border=\"1\" class=\"dataframe\">\n",
              "  <thead>\n",
              "    <tr style=\"text-align: right;\">\n",
              "      <th></th>\n",
              "      <th>AF</th>\n",
              "      <th>Localisation</th>\n",
              "      <th>AMI_Unst.ang</th>\n",
              "      <th>GFR</th>\n",
              "      <th>Surv</th>\n",
              "      <th>Q_non_Q</th>\n",
              "      <th>DM</th>\n",
              "    </tr>\n",
              "  </thead>\n",
              "  <tbody>\n",
              "    <tr>\n",
              "      <th>1</th>\n",
              "      <td>No_AF</td>\n",
              "      <td>Left_car</td>\n",
              "      <td>Unst_ang</td>\n",
              "      <td>98</td>\n",
              "      <td>alive</td>\n",
              "      <td>NaN</td>\n",
              "      <td>No_Diabetes</td>\n",
              "    </tr>\n",
              "    <tr>\n",
              "      <th>2</th>\n",
              "      <td>AF</td>\n",
              "      <td>Left_car</td>\n",
              "      <td>AMI</td>\n",
              "      <td>57</td>\n",
              "      <td>death</td>\n",
              "      <td>non_Q</td>\n",
              "      <td>Diabetes</td>\n",
              "    </tr>\n",
              "    <tr>\n",
              "      <th>3</th>\n",
              "      <td>AF</td>\n",
              "      <td>Left_car</td>\n",
              "      <td>Unst_ang</td>\n",
              "      <td>69</td>\n",
              "      <td>alive</td>\n",
              "      <td>NaN</td>\n",
              "      <td>No_Diabetes</td>\n",
              "    </tr>\n",
              "    <tr>\n",
              "      <th>4</th>\n",
              "      <td>AF</td>\n",
              "      <td>Left_car</td>\n",
              "      <td>AMI</td>\n",
              "      <td>54</td>\n",
              "      <td>death</td>\n",
              "      <td>non_Q</td>\n",
              "      <td>No_Diabetes</td>\n",
              "    </tr>\n",
              "    <tr>\n",
              "      <th>5</th>\n",
              "      <td>No_AF</td>\n",
              "      <td>Right_car</td>\n",
              "      <td>AMI</td>\n",
              "      <td>86</td>\n",
              "      <td>alive</td>\n",
              "      <td>NaN</td>\n",
              "      <td>No_Diabetes</td>\n",
              "    </tr>\n",
              "  </tbody>\n",
              "</table>\n",
              "</div>"
            ],
            "text/plain": [
              "      AF Localisation AMI_Unst.ang  GFR   Surv Q_non_Q           DM\n",
              "1  No_AF     Left_car     Unst_ang   98  alive     NaN  No_Diabetes\n",
              "2     AF     Left_car          AMI   57  death   non_Q     Diabetes\n",
              "3     AF     Left_car     Unst_ang   69  alive     NaN  No_Diabetes\n",
              "4     AF     Left_car          AMI   54  death   non_Q  No_Diabetes\n",
              "5  No_AF    Right_car          AMI   86  alive     NaN  No_Diabetes"
            ]
          },
          "metadata": {
            "tags": []
          },
          "execution_count": 10
        }
      ]
    },
    {
      "cell_type": "code",
      "metadata": {
        "colab": {
          "base_uri": "https://localhost:8080/",
          "height": 112
        },
        "id": "Q73HBoGerBaf",
        "outputId": "bd7788c3-800b-4a3e-d546-202225464f99"
      },
      "source": [
        "# выборка данных 2) используя метод iloc (числовая локализация)\n",
        "data.iloc[1:3, 2:5] # выбок 1-3 строк (не включая) и 2-5 столбцов (5 не включая)"
      ],
      "execution_count": 11,
      "outputs": [
        {
          "output_type": "execute_result",
          "data": {
            "text/html": [
              "<div>\n",
              "<style scoped>\n",
              "    .dataframe tbody tr th:only-of-type {\n",
              "        vertical-align: middle;\n",
              "    }\n",
              "\n",
              "    .dataframe tbody tr th {\n",
              "        vertical-align: top;\n",
              "    }\n",
              "\n",
              "    .dataframe thead th {\n",
              "        text-align: right;\n",
              "    }\n",
              "</style>\n",
              "<table border=\"1\" class=\"dataframe\">\n",
              "  <thead>\n",
              "    <tr style=\"text-align: right;\">\n",
              "      <th></th>\n",
              "      <th>AF</th>\n",
              "      <th>Localisation</th>\n",
              "      <th>AMI_Unst.ang</th>\n",
              "    </tr>\n",
              "  </thead>\n",
              "  <tbody>\n",
              "    <tr>\n",
              "      <th>1</th>\n",
              "      <td>No_AF</td>\n",
              "      <td>Left_car</td>\n",
              "      <td>Unst_ang</td>\n",
              "    </tr>\n",
              "    <tr>\n",
              "      <th>2</th>\n",
              "      <td>AF</td>\n",
              "      <td>Left_car</td>\n",
              "      <td>AMI</td>\n",
              "    </tr>\n",
              "  </tbody>\n",
              "</table>\n",
              "</div>"
            ],
            "text/plain": [
              "      AF Localisation AMI_Unst.ang\n",
              "1  No_AF     Left_car     Unst_ang\n",
              "2     AF     Left_car          AMI"
            ]
          },
          "metadata": {
            "tags": []
          },
          "execution_count": 11
        }
      ]
    },
    {
      "cell_type": "code",
      "metadata": {
        "colab": {
          "base_uri": "https://localhost:8080/",
          "height": 144
        },
        "id": "S24MFdgFrBai",
        "outputId": "064f5618-6453-4b57-bacd-370fcb5d062e"
      },
      "source": [
        "# мы хотим сделать \"подданные\", например состоящие только из пола и диабета\n",
        "df_new = data[['Gender', 'DM']]\n",
        "df_new.head(3)"
      ],
      "execution_count": 12,
      "outputs": [
        {
          "output_type": "execute_result",
          "data": {
            "text/html": [
              "<div>\n",
              "<style scoped>\n",
              "    .dataframe tbody tr th:only-of-type {\n",
              "        vertical-align: middle;\n",
              "    }\n",
              "\n",
              "    .dataframe tbody tr th {\n",
              "        vertical-align: top;\n",
              "    }\n",
              "\n",
              "    .dataframe thead th {\n",
              "        text-align: right;\n",
              "    }\n",
              "</style>\n",
              "<table border=\"1\" class=\"dataframe\">\n",
              "  <thead>\n",
              "    <tr style=\"text-align: right;\">\n",
              "      <th></th>\n",
              "      <th>Gender</th>\n",
              "      <th>DM</th>\n",
              "    </tr>\n",
              "  </thead>\n",
              "  <tbody>\n",
              "    <tr>\n",
              "      <th>0</th>\n",
              "      <td>male</td>\n",
              "      <td>Diabetes</td>\n",
              "    </tr>\n",
              "    <tr>\n",
              "      <th>1</th>\n",
              "      <td>male</td>\n",
              "      <td>No_Diabetes</td>\n",
              "    </tr>\n",
              "    <tr>\n",
              "      <th>2</th>\n",
              "      <td>female</td>\n",
              "      <td>Diabetes</td>\n",
              "    </tr>\n",
              "  </tbody>\n",
              "</table>\n",
              "</div>"
            ],
            "text/plain": [
              "   Gender           DM\n",
              "0    male     Diabetes\n",
              "1    male  No_Diabetes\n",
              "2  female     Diabetes"
            ]
          },
          "metadata": {
            "tags": []
          },
          "execution_count": 12
        }
      ]
    },
    {
      "cell_type": "code",
      "metadata": {
        "colab": {
          "base_uri": "https://localhost:8080/",
          "height": 206
        },
        "id": "78anfNMXrBam",
        "outputId": "ab31b41e-2294-4ca9-9d5f-e3efa0cdd0ba"
      },
      "source": [
        "# мы хотим сделать выбрать данные только для умерших пациентов\n",
        "GFR_death = data[data['Surv'] == 'death']\n",
        "GFR_death.head(5)"
      ],
      "execution_count": 13,
      "outputs": [
        {
          "output_type": "execute_result",
          "data": {
            "text/html": [
              "<div>\n",
              "<style scoped>\n",
              "    .dataframe tbody tr th:only-of-type {\n",
              "        vertical-align: middle;\n",
              "    }\n",
              "\n",
              "    .dataframe tbody tr th {\n",
              "        vertical-align: top;\n",
              "    }\n",
              "\n",
              "    .dataframe thead th {\n",
              "        text-align: right;\n",
              "    }\n",
              "</style>\n",
              "<table border=\"1\" class=\"dataframe\">\n",
              "  <thead>\n",
              "    <tr style=\"text-align: right;\">\n",
              "      <th></th>\n",
              "      <th>Gender</th>\n",
              "      <th>Age</th>\n",
              "      <th>AF</th>\n",
              "      <th>Localisation</th>\n",
              "      <th>AMI_Unst.ang</th>\n",
              "      <th>GFR</th>\n",
              "      <th>Surv</th>\n",
              "      <th>Q_non_Q</th>\n",
              "      <th>DM</th>\n",
              "    </tr>\n",
              "  </thead>\n",
              "  <tbody>\n",
              "    <tr>\n",
              "      <th>0</th>\n",
              "      <td>male</td>\n",
              "      <td>56</td>\n",
              "      <td>No_AF</td>\n",
              "      <td>Left_car</td>\n",
              "      <td>AMI</td>\n",
              "      <td>14</td>\n",
              "      <td>death</td>\n",
              "      <td>non_Q</td>\n",
              "      <td>Diabetes</td>\n",
              "    </tr>\n",
              "    <tr>\n",
              "      <th>2</th>\n",
              "      <td>female</td>\n",
              "      <td>86</td>\n",
              "      <td>AF</td>\n",
              "      <td>Left_car</td>\n",
              "      <td>AMI</td>\n",
              "      <td>57</td>\n",
              "      <td>death</td>\n",
              "      <td>non_Q</td>\n",
              "      <td>Diabetes</td>\n",
              "    </tr>\n",
              "    <tr>\n",
              "      <th>4</th>\n",
              "      <td>female</td>\n",
              "      <td>78</td>\n",
              "      <td>AF</td>\n",
              "      <td>Left_car</td>\n",
              "      <td>AMI</td>\n",
              "      <td>54</td>\n",
              "      <td>death</td>\n",
              "      <td>non_Q</td>\n",
              "      <td>No_Diabetes</td>\n",
              "    </tr>\n",
              "    <tr>\n",
              "      <th>6</th>\n",
              "      <td>female</td>\n",
              "      <td>76</td>\n",
              "      <td>AF</td>\n",
              "      <td>Right_car</td>\n",
              "      <td>AMI</td>\n",
              "      <td>12</td>\n",
              "      <td>death</td>\n",
              "      <td>NaN</td>\n",
              "      <td>Diabetes</td>\n",
              "    </tr>\n",
              "    <tr>\n",
              "      <th>8</th>\n",
              "      <td>male</td>\n",
              "      <td>78</td>\n",
              "      <td>AF</td>\n",
              "      <td>Left_car</td>\n",
              "      <td>AMI</td>\n",
              "      <td>32</td>\n",
              "      <td>death</td>\n",
              "      <td>NaN</td>\n",
              "      <td>Diabetes</td>\n",
              "    </tr>\n",
              "  </tbody>\n",
              "</table>\n",
              "</div>"
            ],
            "text/plain": [
              "   Gender  Age     AF Localisation  ... GFR   Surv Q_non_Q           DM\n",
              "0    male   56  No_AF     Left_car  ...  14  death   non_Q     Diabetes\n",
              "2  female   86     AF     Left_car  ...  57  death   non_Q     Diabetes\n",
              "4  female   78     AF     Left_car  ...  54  death   non_Q  No_Diabetes\n",
              "6  female   76     AF    Right_car  ...  12  death     NaN     Diabetes\n",
              "8    male   78     AF     Left_car  ...  32  death     NaN     Diabetes\n",
              "\n",
              "[5 rows x 9 columns]"
            ]
          },
          "metadata": {
            "tags": []
          },
          "execution_count": 13
        }
      ]
    },
    {
      "cell_type": "code",
      "metadata": {
        "colab": {
          "base_uri": "https://localhost:8080/",
          "height": 301
        },
        "id": "2joIiwMorBao",
        "outputId": "6b40d4b7-800e-4784-d819-e5f918b004ce"
      },
      "source": [
        "# описание данных - возвращает базовые статистики из численных данных\n",
        "data.describe()"
      ],
      "execution_count": 14,
      "outputs": [
        {
          "output_type": "execute_result",
          "data": {
            "text/html": [
              "<div>\n",
              "<style scoped>\n",
              "    .dataframe tbody tr th:only-of-type {\n",
              "        vertical-align: middle;\n",
              "    }\n",
              "\n",
              "    .dataframe tbody tr th {\n",
              "        vertical-align: top;\n",
              "    }\n",
              "\n",
              "    .dataframe thead th {\n",
              "        text-align: right;\n",
              "    }\n",
              "</style>\n",
              "<table border=\"1\" class=\"dataframe\">\n",
              "  <thead>\n",
              "    <tr style=\"text-align: right;\">\n",
              "      <th></th>\n",
              "      <th>Age</th>\n",
              "      <th>GFR</th>\n",
              "    </tr>\n",
              "  </thead>\n",
              "  <tbody>\n",
              "    <tr>\n",
              "      <th>count</th>\n",
              "      <td>113.000000</td>\n",
              "      <td>113.000000</td>\n",
              "    </tr>\n",
              "    <tr>\n",
              "      <th>mean</th>\n",
              "      <td>77.017699</td>\n",
              "      <td>43.000000</td>\n",
              "    </tr>\n",
              "    <tr>\n",
              "      <th>std</th>\n",
              "      <td>8.869070</td>\n",
              "      <td>20.341285</td>\n",
              "    </tr>\n",
              "    <tr>\n",
              "      <th>min</th>\n",
              "      <td>56.000000</td>\n",
              "      <td>9.000000</td>\n",
              "    </tr>\n",
              "    <tr>\n",
              "      <th>25%</th>\n",
              "      <td>71.000000</td>\n",
              "      <td>29.000000</td>\n",
              "    </tr>\n",
              "    <tr>\n",
              "      <th>50%</th>\n",
              "      <td>78.000000</td>\n",
              "      <td>40.000000</td>\n",
              "    </tr>\n",
              "    <tr>\n",
              "      <th>75%</th>\n",
              "      <td>83.000000</td>\n",
              "      <td>54.000000</td>\n",
              "    </tr>\n",
              "    <tr>\n",
              "      <th>max</th>\n",
              "      <td>98.000000</td>\n",
              "      <td>98.000000</td>\n",
              "    </tr>\n",
              "  </tbody>\n",
              "</table>\n",
              "</div>"
            ],
            "text/plain": [
              "              Age         GFR\n",
              "count  113.000000  113.000000\n",
              "mean    77.017699   43.000000\n",
              "std      8.869070   20.341285\n",
              "min     56.000000    9.000000\n",
              "25%     71.000000   29.000000\n",
              "50%     78.000000   40.000000\n",
              "75%     83.000000   54.000000\n",
              "max     98.000000   98.000000"
            ]
          },
          "metadata": {
            "tags": []
          },
          "execution_count": 14
        }
      ]
    },
    {
      "cell_type": "code",
      "metadata": {
        "colab": {
          "base_uri": "https://localhost:8080/"
        },
        "id": "ijCZOoqwrBaq",
        "outputId": "326e467c-8be0-4dcd-c0bd-7b6e93fb1d37"
      },
      "source": [
        "data.info()"
      ],
      "execution_count": 15,
      "outputs": [
        {
          "output_type": "stream",
          "text": [
            "<class 'pandas.core.frame.DataFrame'>\n",
            "RangeIndex: 113 entries, 0 to 112\n",
            "Data columns (total 9 columns):\n",
            " #   Column        Non-Null Count  Dtype \n",
            "---  ------        --------------  ----- \n",
            " 0   Gender        113 non-null    object\n",
            " 1   Age           113 non-null    int64 \n",
            " 2   AF            113 non-null    object\n",
            " 3   Localisation  113 non-null    object\n",
            " 4   AMI_Unst.ang  113 non-null    object\n",
            " 5   GFR           113 non-null    int64 \n",
            " 6   Surv          113 non-null    object\n",
            " 7   Q_non_Q       54 non-null     object\n",
            " 8   DM            113 non-null    object\n",
            "dtypes: int64(2), object(7)\n",
            "memory usage: 8.1+ KB\n"
          ],
          "name": "stdout"
        }
      ]
    },
    {
      "cell_type": "code",
      "metadata": {
        "colab": {
          "base_uri": "https://localhost:8080/"
        },
        "id": "Jcw3LxzArBar",
        "outputId": "a44bba45-0eb6-4eda-f656-070d4241249a"
      },
      "source": [
        "# группировка этих данных по столбцу/переменной Surv\n",
        "# возвращает объект DataFrameGroupBy\n",
        "grouped_by_surv = data.groupby('Surv')\n",
        "print(grouped_by_surv)"
      ],
      "execution_count": 16,
      "outputs": [
        {
          "output_type": "stream",
          "text": [
            "<pandas.core.groupby.generic.DataFrameGroupBy object at 0x7fdf12101e10>\n"
          ],
          "name": "stdout"
        }
      ]
    },
    {
      "cell_type": "code",
      "metadata": {
        "colab": {
          "base_uri": "https://localhost:8080/"
        },
        "id": "7ZvAJ4oYrBat",
        "outputId": "d98607dd-f568-4a93-9f37-04e54ff27d65"
      },
      "source": [
        "grouped_by_surv.ngroups"
      ],
      "execution_count": 17,
      "outputs": [
        {
          "output_type": "execute_result",
          "data": {
            "text/plain": [
              "2"
            ]
          },
          "metadata": {
            "tags": []
          },
          "execution_count": 17
        }
      ]
    },
    {
      "cell_type": "code",
      "metadata": {
        "colab": {
          "base_uri": "https://localhost:8080/"
        },
        "id": "Z-LRa07frBau",
        "outputId": "654168be-dcb4-48b0-f66f-30552462b8bf"
      },
      "source": [
        "grouped_by_surv.groups"
      ],
      "execution_count": 18,
      "outputs": [
        {
          "output_type": "execute_result",
          "data": {
            "text/plain": [
              "{'alive': [1, 3, 5, 7, 10, 14, 15, 20, 23, 25, 26, 27, 30, 32, 34, 35, 40, 41, 42, 43, 46, 47, 53, 54, 56, 59, 60, 66, 69, 71, 72, 73, 76, 77, 79, 80, 81, 84, 85, 91, 92, 94, 95, 97, 98, 99, 101, 102, 106, 110, 111, 112], 'death': [0, 2, 4, 6, 8, 9, 11, 12, 13, 16, 17, 18, 19, 21, 22, 24, 28, 29, 31, 33, 36, 37, 38, 39, 44, 45, 48, 49, 50, 51, 52, 55, 57, 58, 61, 62, 63, 64, 65, 67, 68, 70, 74, 75, 78, 82, 83, 86, 87, 88, 89, 90, 93, 96, 100, 103, 104, 105, 107, 108, 109]}"
            ]
          },
          "metadata": {
            "tags": []
          },
          "execution_count": 18
        }
      ]
    },
    {
      "cell_type": "code",
      "metadata": {
        "colab": {
          "base_uri": "https://localhost:8080/",
          "height": 206
        },
        "id": "I5EdCqOjrBaw",
        "outputId": "8811baa8-6609-4733-f1bc-f3a5521b5715"
      },
      "source": [
        "# получаем данные конкретной группы\n",
        "grouped_by_surv.get_group('death')[:5]"
      ],
      "execution_count": 19,
      "outputs": [
        {
          "output_type": "execute_result",
          "data": {
            "text/html": [
              "<div>\n",
              "<style scoped>\n",
              "    .dataframe tbody tr th:only-of-type {\n",
              "        vertical-align: middle;\n",
              "    }\n",
              "\n",
              "    .dataframe tbody tr th {\n",
              "        vertical-align: top;\n",
              "    }\n",
              "\n",
              "    .dataframe thead th {\n",
              "        text-align: right;\n",
              "    }\n",
              "</style>\n",
              "<table border=\"1\" class=\"dataframe\">\n",
              "  <thead>\n",
              "    <tr style=\"text-align: right;\">\n",
              "      <th></th>\n",
              "      <th>Gender</th>\n",
              "      <th>Age</th>\n",
              "      <th>AF</th>\n",
              "      <th>Localisation</th>\n",
              "      <th>AMI_Unst.ang</th>\n",
              "      <th>GFR</th>\n",
              "      <th>Surv</th>\n",
              "      <th>Q_non_Q</th>\n",
              "      <th>DM</th>\n",
              "    </tr>\n",
              "  </thead>\n",
              "  <tbody>\n",
              "    <tr>\n",
              "      <th>0</th>\n",
              "      <td>male</td>\n",
              "      <td>56</td>\n",
              "      <td>No_AF</td>\n",
              "      <td>Left_car</td>\n",
              "      <td>AMI</td>\n",
              "      <td>14</td>\n",
              "      <td>death</td>\n",
              "      <td>non_Q</td>\n",
              "      <td>Diabetes</td>\n",
              "    </tr>\n",
              "    <tr>\n",
              "      <th>2</th>\n",
              "      <td>female</td>\n",
              "      <td>86</td>\n",
              "      <td>AF</td>\n",
              "      <td>Left_car</td>\n",
              "      <td>AMI</td>\n",
              "      <td>57</td>\n",
              "      <td>death</td>\n",
              "      <td>non_Q</td>\n",
              "      <td>Diabetes</td>\n",
              "    </tr>\n",
              "    <tr>\n",
              "      <th>4</th>\n",
              "      <td>female</td>\n",
              "      <td>78</td>\n",
              "      <td>AF</td>\n",
              "      <td>Left_car</td>\n",
              "      <td>AMI</td>\n",
              "      <td>54</td>\n",
              "      <td>death</td>\n",
              "      <td>non_Q</td>\n",
              "      <td>No_Diabetes</td>\n",
              "    </tr>\n",
              "    <tr>\n",
              "      <th>6</th>\n",
              "      <td>female</td>\n",
              "      <td>76</td>\n",
              "      <td>AF</td>\n",
              "      <td>Right_car</td>\n",
              "      <td>AMI</td>\n",
              "      <td>12</td>\n",
              "      <td>death</td>\n",
              "      <td>NaN</td>\n",
              "      <td>Diabetes</td>\n",
              "    </tr>\n",
              "    <tr>\n",
              "      <th>8</th>\n",
              "      <td>male</td>\n",
              "      <td>78</td>\n",
              "      <td>AF</td>\n",
              "      <td>Left_car</td>\n",
              "      <td>AMI</td>\n",
              "      <td>32</td>\n",
              "      <td>death</td>\n",
              "      <td>NaN</td>\n",
              "      <td>Diabetes</td>\n",
              "    </tr>\n",
              "  </tbody>\n",
              "</table>\n",
              "</div>"
            ],
            "text/plain": [
              "   Gender  Age     AF Localisation  ... GFR   Surv Q_non_Q           DM\n",
              "0    male   56  No_AF     Left_car  ...  14  death   non_Q     Diabetes\n",
              "2  female   86     AF     Left_car  ...  57  death   non_Q     Diabetes\n",
              "4  female   78     AF     Left_car  ...  54  death   non_Q  No_Diabetes\n",
              "6  female   76     AF    Right_car  ...  12  death     NaN     Diabetes\n",
              "8    male   78     AF     Left_car  ...  32  death     NaN     Diabetes\n",
              "\n",
              "[5 rows x 9 columns]"
            ]
          },
          "metadata": {
            "tags": []
          },
          "execution_count": 19
        }
      ]
    },
    {
      "cell_type": "code",
      "metadata": {
        "id": "IJ32luNHrBay"
      },
      "source": [
        "# давайте проведём простой тест. Пока не будет вдаваться в подробности распределения, давайте проверим разными\n",
        "# тестами имеет ли место статистически значимая разница возраста между умершими и выжившими \n",
        "data_survive = data[data.Surv == 'alive']\n",
        "data_dead = data[data.Surv == 'death']"
      ],
      "execution_count": 20,
      "outputs": []
    },
    {
      "cell_type": "code",
      "metadata": {
        "colab": {
          "base_uri": "https://localhost:8080/"
        },
        "id": "OZR6UGDtrBaz",
        "outputId": "d31f269a-38b3-4ed3-f1e5-2c2d1db018cf"
      },
      "source": [
        "# res_kw = kruskal(lst_1, lst_2)## тест краскела-уолиса\n",
        "\n",
        "res_kw = kruskal(data_survive['GFR'], data_dead['GFR'])\n",
        "print(res_kw)"
      ],
      "execution_count": 30,
      "outputs": [
        {
          "output_type": "stream",
          "text": [
            "KruskalResult(statistic=19.1875063598709, pvalue=1.1848633731444293e-05)\n"
          ],
          "name": "stdout"
        }
      ]
    },
    {
      "cell_type": "code",
      "metadata": {
        "id": "ghk5SPOQrBa1"
      },
      "source": [
        "# р-значение 1.18, т.е. нулевую гипотезу, о том, что между данными нет разницы - мы не отвергаем..."
      ],
      "execution_count": null,
      "outputs": []
    },
    {
      "cell_type": "code",
      "metadata": {
        "id": "mzTndU0VrBa1"
      },
      "source": [
        "\"\"\"\n",
        "1) Задание - сделать подвыборку в зависимости от наличия или отсутствия фибрилляции предсердий (AF)\n",
        "2) Задание - проверить стат.гипотезы: нет разницы между уровенм СКФ (GFR) у умерших и выживших\n",
        "3) Задание - проверить тип расспределения при помощи методов Колмогорова-Смирнова и Шапиро-Уилка (Возраст, СКФ)\n",
        "4) Подумать где можно реализовать Хи-квадрат и проверить произвольную гипотезу и сделать вывод о проделанной работе\n",
        "\n",
        "\"\"\""
      ],
      "execution_count": null,
      "outputs": []
    },
    {
      "cell_type": "code",
      "metadata": {
        "id": "3KaWLl779tQZ"
      },
      "source": [
        "af_af = data[data['AF'] == 'AF']\n",
        "af_af.head(10)"
      ],
      "execution_count": null,
      "outputs": []
    },
    {
      "cell_type": "code",
      "metadata": {
        "id": "PZh0F07C-bi_"
      },
      "source": [
        "no_af = data[data['AF'] == 'No_AF']\n",
        "no_af.head(10)"
      ],
      "execution_count": null,
      "outputs": []
    },
    {
      "cell_type": "code",
      "metadata": {
        "id": "_Qh3FqU1_CAV"
      },
      "source": [
        "res_kw_age = kruskal(data_survive['Age'], data_dead['Age'])\n",
        "res_kw_age"
      ],
      "execution_count": null,
      "outputs": []
    },
    {
      "cell_type": "code",
      "metadata": {
        "id": "17a4CoNo_k3A"
      },
      "source": [
        "# р = 0,122 говорит, что разница есть. Отвергаем нулевую гипотезу"
      ],
      "execution_count": null,
      "outputs": []
    },
    {
      "cell_type": "code",
      "metadata": {
        "id": "qXvHH7f4AEPa"
      },
      "source": [
        "res_tt = stats.ttest_ind(data_survive['Age'], data_dead['Age'])\n",
        "res_tt"
      ],
      "execution_count": null,
      "outputs": []
    },
    {
      "cell_type": "code",
      "metadata": {
        "colab": {
          "base_uri": "https://localhost:8080/"
        },
        "id": "vSWckX3eGkTw",
        "outputId": "4e7f9f7c-64d7-4bdb-f5d2-b82852d417e8"
      },
      "source": [
        "from scipy.stats import kstest\n",
        "kstest(data['Age'], 'norm')"
      ],
      "execution_count": 43,
      "outputs": [
        {
          "output_type": "execute_result",
          "data": {
            "text/plain": [
              "KstestResult(statistic=1.0, pvalue=0.0)"
            ]
          },
          "metadata": {
            "tags": []
          },
          "execution_count": 43
        }
      ]
    },
    {
      "cell_type": "code",
      "metadata": {
        "colab": {
          "base_uri": "https://localhost:8080/"
        },
        "id": "TBgf2jC6MQHv",
        "outputId": "6370c37f-2efd-43a5-ce59-50c8bbcff49e"
      },
      "source": [
        "kstest(data['GFR'], 'norm')"
      ],
      "execution_count": 47,
      "outputs": [
        {
          "output_type": "execute_result",
          "data": {
            "text/plain": [
              "KstestResult(statistic=1.0, pvalue=0.0)"
            ]
          },
          "metadata": {
            "tags": []
          },
          "execution_count": 47
        }
      ]
    },
    {
      "cell_type": "code",
      "metadata": {
        "colab": {
          "base_uri": "https://localhost:8080/"
        },
        "id": "nJk8SDIgAL8Q",
        "outputId": "7f343a8e-06e7-4343-e0c0-1c3b6f550c25"
      },
      "source": [
        "res_shapiro_age = stats.shapiro(data['Age'])\n",
        "res_shapiro_age"
      ],
      "execution_count": 46,
      "outputs": [
        {
          "output_type": "execute_result",
          "data": {
            "text/plain": [
              "(0.9839508533477783, 0.19562266767024994)"
            ]
          },
          "metadata": {
            "tags": []
          },
          "execution_count": 46
        }
      ]
    },
    {
      "cell_type": "code",
      "metadata": {
        "colab": {
          "base_uri": "https://localhost:8080/"
        },
        "id": "G6fbfYE_HTJq",
        "outputId": "92299efb-01cf-4c54-c83b-6d994006d70b"
      },
      "source": [
        "res_shapiro_gfr = stats.shapiro(data['GFR'])\n",
        "res_shapiro_gfr"
      ],
      "execution_count": 41,
      "outputs": [
        {
          "output_type": "execute_result",
          "data": {
            "text/plain": [
              "(0.9576783180236816, 0.0012525040656328201)"
            ]
          },
          "metadata": {
            "tags": []
          },
          "execution_count": 41
        }
      ]
    },
    {
      "cell_type": "code",
      "metadata": {
        "id": "X3Q9Y8O0PMQk"
      },
      "source": [
        "# если р меньше заданного альфа уровня (0.1, 0.05) нулевая гипотеза о нормальном распределении отвергается. Данные имеют значимость."
      ],
      "execution_count": null,
      "outputs": []
    },
    {
      "cell_type": "code",
      "metadata": {
        "colab": {
          "base_uri": "https://localhost:8080/"
        },
        "id": "4DMUlhT7VR8k",
        "outputId": "06426abe-f4e8-45d9-b567-f66d8d703f19"
      },
      "source": [
        "res_chi = chisquare(data['Age'], data['GFR']) ## хи-квадрат\n",
        "res_chi"
      ],
      "execution_count": 51,
      "outputs": [
        {
          "output_type": "execute_result",
          "data": {
            "text/plain": [
              "Power_divergenceResult(statistic=8191.670496731499, pvalue=0.0)"
            ]
          },
          "metadata": {
            "tags": []
          },
          "execution_count": 51
        }
      ]
    },
    {
      "cell_type": "code",
      "metadata": {
        "id": "fSztn24WXx31"
      },
      "source": [
        "# ищем зависимость показателя СКФ от возраста. отвергая нулевую гипотезу, мы ошибемся на 0%. значит, зависимость есть."
      ],
      "execution_count": null,
      "outputs": []
    }
  ]
}