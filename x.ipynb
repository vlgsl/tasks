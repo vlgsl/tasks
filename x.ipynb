{
  "nbformat": 4,
  "nbformat_minor": 0,
  "metadata": {
    "colab": {
      "name": "Untitled16.ipynb",
      "provenance": []
    },
    "kernelspec": {
      "name": "python3",
      "display_name": "Python 3"
    }
  },
  "cells": [
    {
      "cell_type": "code",
      "metadata": {
        "id": "BDXD2piGDZBX"
      },
      "source": [
        "d = {100: 25, 70: 15}\n",
        "all_of_all, all_in_apple = 0, 0\n",
        "all_of_each, in_apple, not_in_apple = [], [], []\n",
        "for key, value in d.items():\n",
        "  all_of_all += key\n",
        "  all_in_apple += value\n",
        "  all_of_each.append(key)\n",
        "  in_apple.append(value)\n",
        "  not_in_apple.append(key - value)\n"
      ],
      "execution_count": 91,
      "outputs": []
    },
    {
      "cell_type": "code",
      "metadata": {
        "id": "MS38FtOuD3tc"
      },
      "source": [
        "freq_in_apple = all_in_apple / all_of_all\n",
        "freq_not_in_apple = (all_of_all - all_in_apple) / all_of_all"
      ],
      "execution_count": 92,
      "outputs": []
    },
    {
      "cell_type": "code",
      "metadata": {
        "id": "IrkLxo7KF_X9"
      },
      "source": [
        "exp_in_apple, exp_not_in_apple = [], []\n",
        "for i in range(len(all_of_each)):\n",
        "  exp_in_apple.append(all_of_each[i] * freq_in_apple)\n",
        "for i in range(len(all_of_each)):\n",
        "  exp_not_in_apple.append(all_of_each[i] * freq_not_in_apple)"
      ],
      "execution_count": 93,
      "outputs": []
    },
    {
      "cell_type": "code",
      "metadata": {
        "id": "ZbNhQ9_EGaHZ"
      },
      "source": [
        "in_apple\n",
        "exp_in_apple\n",
        "not_in_apple\n",
        "exp_not_in_apple"
      ],
      "execution_count": null,
      "outputs": []
    },
    {
      "cell_type": "code",
      "metadata": {
        "colab": {
          "base_uri": "https://localhost:8080/"
        },
        "id": "UUjpVmlOShwV",
        "outputId": "88afa9a0-bf84-4bf9-9af9-59ac6be0f35c"
      },
      "source": [
        "d1 = dict(zip(in_apple, exp_in_apple))\n",
        "d2 = dict(zip(not_in_apple, exp_not_in_apple))\n",
        "d3 = d1.update(d2)\n",
        "x = 0\n",
        "for key, value in d1.items():\n",
        "  x += ((key - value) ** 2) / value\n",
        "x"
      ],
      "execution_count": 112,
      "outputs": [
        {
          "output_type": "execute_result",
          "data": {
            "text/plain": [
              "0.29189560439560464"
            ]
          },
          "metadata": {
            "tags": []
          },
          "execution_count": 112
        }
      ]
    },
    {
      "cell_type": "code",
      "metadata": {
        "colab": {
          "base_uri": "https://localhost:8080/"
        },
        "id": "npyFiP39K6_I",
        "outputId": "87828a44-8730-4aba-f17b-faca5f216d8a"
      },
      "source": [
        "xe = 0\n",
        "for key, value in d1.items():\n",
        "  xe += ((abs(key - value) - 0.5) ** 2) / value\n",
        "x"
      ],
      "execution_count": 113,
      "outputs": [
        {
          "output_type": "execute_result",
          "data": {
            "text/plain": [
              "0.29189560439560464"
            ]
          },
          "metadata": {
            "tags": []
          },
          "execution_count": 113
        }
      ]
    },
    {
      "cell_type": "code",
      "metadata": {
        "colab": {
          "base_uri": "https://localhost:8080/"
        },
        "id": "1ImzEi2uUMDU",
        "outputId": "ca31fd6a-7fd6-42d2-a388-80de890d5520"
      },
      "source": [
        "# df=(R−1)(C−1) степень свободы, r и c - кол-во строк и столбцов\n",
        "df = (2 - 1) * (2 - 1)\n",
        "p = 0.05\n",
        "x_cr = 3.84146\n",
        "x < x_cr"
      ],
      "execution_count": 117,
      "outputs": [
        {
          "output_type": "execute_result",
          "data": {
            "text/plain": [
              "True"
            ]
          },
          "metadata": {
            "tags": []
          },
          "execution_count": 117
        }
      ]
    },
    {
      "cell_type": "code",
      "metadata": {
        "id": "48fR8Y3zWgVY"
      },
      "source": [
        "# x критическое больше. полученная разница незначительна. принмаем нулевую гипотезу. "
      ],
      "execution_count": null,
      "outputs": []
    }
  ]
}