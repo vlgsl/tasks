{
  "nbformat": 4,
  "nbformat_minor": 0,
  "metadata": {
    "colab": {
      "name": "Untitled19.ipynb",
      "provenance": []
    },
    "kernelspec": {
      "name": "python3",
      "display_name": "Python 3"
    }
  },
  "cells": [
    {
      "cell_type": "code",
      "metadata": {
        "id": "zxDsIDEvmQQJ"
      },
      "source": [
        "with open('') as f:\n",
        "  file_ = f.read()\n",
        "file_"
      ],
      "execution_count": null,
      "outputs": []
    },
    {
      "cell_type": "code",
      "metadata": {
        "id": "yiunxSO2jQev",
        "colab": {
          "base_uri": "https://localhost:8080/"
        },
        "outputId": "44b31760-9f9d-4dbe-ee03-5978bb9da5e9"
      },
      "source": [
        "import re\n",
        "import numpy as np\n",
        "\n",
        "def esr(file_):\n",
        "  file_ = ''.join(file_.split()).lower()\n",
        "  file_ = re.sub(r'\\d{,2}\\.\\d\\d\\.\\d{2,4}', '', file_)\n",
        "  patt = re.compile(r'(?<=соэ)\\d+')\n",
        "  patt1 = patt.findall(file_)\n",
        "  try:\n",
        "    if patt1:\n",
        "      return np.float_(patt1)\n",
        "    else:\n",
        "      return 'None'\n",
        "  except:\n",
        "    pass\n",
        "esr(file_)"
      ],
      "execution_count": 44,
      "outputs": [
        {
          "output_type": "execute_result",
          "data": {
            "text/plain": [
              "array([62., 60., 64., 51.])"
            ]
          },
          "metadata": {
            "tags": []
          },
          "execution_count": 44
        }
      ]
    },
    {
      "cell_type": "code",
      "metadata": {
        "id": "BwkhoYNbYoSP",
        "colab": {
          "base_uri": "https://localhost:8080/"
        },
        "outputId": "2facf485-5285-44f1-dac4-8f69c809adc4"
      },
      "source": [
        "def fibrn(file_):\n",
        "  file_ = ''.join(file_.split()).lower()\n",
        "  file_ = re.sub(r'\\d{,2}\\.\\d\\d\\.\\d{2,4}', '', file_)\n",
        "  file_ = re.sub(r',', '.', file_)\n",
        "  patt = re.compile(r'(?:фибриноген|фибр\\.|фибрин|ф)(\\d+.\\d+)')\n",
        "  patt1 = patt.findall(file_)\n",
        "  try:\n",
        "    if patt1:\n",
        "      return np.float_(patt1)\n",
        "    else:\n",
        "      return 'None'\n",
        "  except:\n",
        "    pass\n",
        "fibrn(file_)"
      ],
      "execution_count": 45,
      "outputs": [
        {
          "output_type": "execute_result",
          "data": {
            "text/plain": [
              "array([9.94])"
            ]
          },
          "metadata": {
            "tags": []
          },
          "execution_count": 45
        }
      ]
    }
  ]
}