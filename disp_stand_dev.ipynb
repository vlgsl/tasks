{
  "nbformat": 4,
  "nbformat_minor": 0,
  "metadata": {
    "colab": {
      "name": "disp_stand_dev.ipynb",
      "provenance": []
    },
    "kernelspec": {
      "name": "python3",
      "display_name": "Python 3"
    }
  },
  "cells": [
    {
      "cell_type": "code",
      "metadata": {
        "colab": {
          "base_uri": "https://localhost:8080/"
        },
        "id": "ABwmm9aur-EB",
        "outputId": "dcaa9081-dfe3-4bf1-b306-a88b6006f974"
      },
      "source": [
        "a = [1, 3, 5, 7, 9, 11]\n",
        "def disp(a):\n",
        "  b = sum(a)/len(a)\n",
        "  tot = 0\n",
        "  for i in range(len(a)):\n",
        "    c = (a[i] - b) ** 2\n",
        "    tot += c\n",
        "  d = tot/b\n",
        "  return d\n",
        "disp(a)"
      ],
      "execution_count": 52,
      "outputs": [
        {
          "output_type": "execute_result",
          "data": {
            "text/plain": [
              "11.666666666666666"
            ]
          },
          "metadata": {
            "tags": []
          },
          "execution_count": 52
        }
      ]
    },
    {
      "cell_type": "code",
      "metadata": {
        "colab": {
          "base_uri": "https://localhost:8080/"
        },
        "id": "M95bkCvIsTUl",
        "outputId": "6f06e271-7eb2-4599-bde8-2504d60a829e"
      },
      "source": [
        "def stand_dev(a):\n",
        "  b = disp(a) ** 0.5\n",
        "  return b\n",
        "stand_dev(a)"
      ],
      "execution_count": null,
      "outputs": [
        {
          "output_type": "execute_result",
          "data": {
            "text/plain": [
              "3.415650255319866"
            ]
          },
          "metadata": {
            "tags": []
          },
          "execution_count": 41
        }
      ]
    },
    {
      "cell_type": "code",
      "metadata": {
        "colab": {
          "base_uri": "https://localhost:8080/"
        },
        "id": "672DVya_uvnV",
        "outputId": "a39663c5-f36b-4493-fbea-d22ff1a05580"
      },
      "source": [
        "s = [1, 1, 2, 3, 4, 5, 9, 3, 3]\n",
        "d = {}\n",
        "for i in s:\n",
        "  d[i] = d.get(i, 0) + 1\n",
        "d"
      ],
      "execution_count": 140,
      "outputs": [
        {
          "output_type": "execute_result",
          "data": {
            "text/plain": [
              "{1: 2, 2: 1, 3: 3, 4: 1, 5: 1, 9: 1}"
            ]
          },
          "metadata": {
            "tags": []
          },
          "execution_count": 140
        }
      ]
    },
    {
      "cell_type": "code",
      "metadata": {
        "colab": {
          "base_uri": "https://localhost:8080/"
        },
        "id": "UqvfNHWY4KQp",
        "outputId": "27b1748e-7253-47e2-e1f6-986e6ff82104"
      },
      "source": [
        "tot = 0\n",
        "for key, value in d.items():\n",
        "  tot += key * value\n",
        "tot/len(s)"
      ],
      "execution_count": 141,
      "outputs": [
        {
          "output_type": "execute_result",
          "data": {
            "text/plain": [
              "3.4444444444444446"
            ]
          },
          "metadata": {
            "tags": []
          },
          "execution_count": 141
        }
      ]
    }
  ]
}