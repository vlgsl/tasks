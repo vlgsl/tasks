{
  "nbformat": 4,
  "nbformat_minor": 0,
  "metadata": {
    "colab": {
      "name": "disp_stand_dev.ipynb",
      "provenance": []
    },
    "kernelspec": {
      "name": "python3",
      "display_name": "Python 3"
    }
  },
  "cells": [
    {
      "cell_type": "code",
      "metadata": {
        "colab": {
          "base_uri": "https://localhost:8080/"
        },
        "id": "ABwmm9aur-EB",
        "outputId": "186842cc-0c90-40c1-c56e-e18dcc866cb7"
      },
      "source": [
        "a = [1, 3, 5, 7, 9, 11]\n",
        "def disp(a):\n",
        "  b = sum(a)/len(a)\n",
        "  tot = 0\n",
        "  for i in range(len(a)):\n",
        "    c = (a[i] - b) ** 2\n",
        "    tot += c\n",
        "  d = tot/b\n",
        "  return d\n",
        "disp(a)"
      ],
      "execution_count": 35,
      "outputs": [
        {
          "output_type": "execute_result",
          "data": {
            "text/plain": [
              "11.666666666666666"
            ]
          },
          "metadata": {
            "tags": []
          },
          "execution_count": 35
        }
      ]
    },
    {
      "cell_type": "code",
      "metadata": {
        "colab": {
          "base_uri": "https://localhost:8080/"
        },
        "id": "M95bkCvIsTUl",
        "outputId": "6f06e271-7eb2-4599-bde8-2504d60a829e"
      },
      "source": [
        "def stand_dev(a):\n",
        "  b = disp(a) ** 0.5\n",
        "  return b\n",
        "stand_dev(a)"
      ],
      "execution_count": 41,
      "outputs": [
        {
          "output_type": "execute_result",
          "data": {
            "text/plain": [
              "3.415650255319866"
            ]
          },
          "metadata": {
            "tags": []
          },
          "execution_count": 41
        }
      ]
    }
  ]
}