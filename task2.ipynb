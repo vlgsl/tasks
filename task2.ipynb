{
  "nbformat": 4,
  "nbformat_minor": 0,
  "metadata": {
    "colab": {
      "name": "task2.ipynb",
      "provenance": []
    },
    "kernelspec": {
      "name": "python3",
      "display_name": "Python 3"
    }
  },
  "cells": [
    {
      "cell_type": "code",
      "metadata": {
        "id": "cwQrXYAT1Dd0"
      },
      "source": [
        "import random\n",
        "a = [int(random.normalvariate(20,3)) for i in range(50)]\n",
        "b = [int(random.normalvariate(40,5)) for i in range(50)]"
      ],
      "execution_count": 42,
      "outputs": []
    },
    {
      "cell_type": "code",
      "metadata": {
        "id": "Eh34zYUq2AI7"
      },
      "source": [
        "a, b"
      ],
      "execution_count": null,
      "outputs": []
    },
    {
      "cell_type": "code",
      "metadata": {
        "colab": {
          "base_uri": "https://localhost:8080/"
        },
        "id": "ODbVPcwg2BJy",
        "outputId": "d8ef5ebd-144b-4c97-ee8f-8551e72bc50b"
      },
      "source": [
        "from scipy import stats\n",
        "stats.ttest_ind(a, b,equal_var = False) #equal_var=False, т.к. не предполагается равная дисперсия совокупности."
      ],
      "execution_count": 45,
      "outputs": [
        {
          "output_type": "execute_result",
          "data": {
            "text/plain": [
              "Ttest_indResult(statistic=-22.630941246307106, pvalue=1.892080888831977e-37)"
            ]
          },
          "metadata": {
            "tags": []
          },
          "execution_count": 45
        }
      ]
    },
    {
      "cell_type": "code",
      "metadata": {
        "id": "sOiJPsVaHZj-"
      },
      "source": [
        "# pvalue больше 0.1. принимаем нулевую гипотезу."
      ],
      "execution_count": null,
      "outputs": []
    },
    {
      "cell_type": "code",
      "metadata": {
        "id": "5mIfZOrwSKdx"
      },
      "source": [
        ""
      ],
      "execution_count": null,
      "outputs": []
    }
  ]
}